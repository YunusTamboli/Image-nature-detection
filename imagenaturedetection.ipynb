{
  "nbformat": 4,
  "nbformat_minor": 0,
  "metadata": {
    "colab": {
      "provenance": [],
      "authorship_tag": "ABX9TyNuhbbvGKgjs4fvXJ4LQfM8",
      "include_colab_link": true
    },
    "kernelspec": {
      "name": "python3",
      "display_name": "Python 3"
    },
    "language_info": {
      "name": "python"
    }
  },
  "cells": [
    {
      "cell_type": "markdown",
      "metadata": {
        "id": "view-in-github",
        "colab_type": "text"
      },
      "source": [
        "<a href=\"https://colab.research.google.com/github/YunusTamboli/Image-nature-detection/blob/main/imagenaturedetection.ipynb\" target=\"_parent\"><img src=\"https://colab.research.google.com/assets/colab-badge.svg\" alt=\"Open In Colab\"/></a>"
      ]
    },
    {
      "cell_type": "code",
      "execution_count": null,
      "metadata": {
        "colab": {
          "base_uri": "https://localhost:8080/",
          "height": 793
        },
        "id": "EiuvyF842fWZ",
        "outputId": "f739ce5d-f10b-49c4-e099-a7d0472ddb4a"
      },
      "outputs": [
        {
          "output_type": "stream",
          "name": "stderr",
          "text": [
            "WARNING:easyocr.easyocr:Neither CUDA nor MPS are available - defaulting to CPU. Note: This module is much faster with a GPU.\n"
          ]
        },
        {
          "name": "stdout",
          "output_type": "stream",
          "text": [
            "\n",
            "Choose option:\n",
            "1 - Capture from camera\n",
            "2 - Upload from file\n",
            "0 - Exit\n",
            "Enter choice: 1\n"
          ]
        },
        {
          "output_type": "display_data",
          "data": {
            "text/plain": [
              "<IPython.core.display.Javascript object>"
            ],
            "application/javascript": [
              "\n",
              "        async function takePhoto() {\n",
              "          const div = document.createElement('div');\n",
              "          const capture = document.createElement('button');\n",
              "          capture.textContent = 'Capture';\n",
              "          div.appendChild(capture);\n",
              "          document.body.appendChild(div);\n",
              "\n",
              "          const video = document.createElement('video');\n",
              "          video.style.display = 'block';\n",
              "          document.body.appendChild(video);\n",
              "\n",
              "          const stream = await navigator.mediaDevices.getUserMedia({ video: true });\n",
              "          video.srcObject = stream;\n",
              "          await video.play();\n",
              "\n",
              "          google.colab.output.setIframeHeight(document.documentElement.scrollHeight, true);\n",
              "\n",
              "          await new Promise((resolve) => capture.onclick = resolve);\n",
              "\n",
              "          const canvas = document.createElement('canvas');\n",
              "          canvas.width = video.videoWidth;\n",
              "          canvas.height = video.videoHeight;\n",
              "          canvas.getContext('2d').drawImage(video, 0, 0);\n",
              "          stream.getVideoTracks()[0].stop();\n",
              "\n",
              "          const dataUrl = canvas.toDataURL('image/jpeg');\n",
              "          return dataUrl;\n",
              "        }\n",
              "    "
            ]
          },
          "metadata": {}
        },
        {
          "output_type": "stream",
          "name": "stdout",
          "text": [
            "🤖 AI Guess: a man and woman are standing in front of a wall\n",
            "📂 Suggested File Name: a_man_and_woman_are_standing_in_front_of_a_wall.jpg\n",
            "\n",
            "Choose option:\n",
            "1 - Capture from camera\n",
            "2 - Upload from file\n",
            "0 - Exit\n"
          ]
        }
      ],
      "source": [
        "# Install dependencies\n",
        "!pip install easyocr pillow transformers torchvision torchaudio --quiet\n",
        "\n",
        "import easyocr\n",
        "import PIL.Image as Image\n",
        "import cv2\n",
        "import torch\n",
        "from transformers import BlipProcessor, BlipForConditionalGeneration\n",
        "from google.colab import files\n",
        "import io\n",
        "from IPython.display import display, Javascript\n",
        "from google.colab.output import eval_js\n",
        "from base64 import b64decode\n",
        "\n",
        "# Load EasyOCR reader\n",
        "reader = easyocr.Reader(['en'])\n",
        "\n",
        "# Load BLIP model for image understanding\n",
        "processor = BlipProcessor.from_pretrained(\"Salesforce/blip-image-captioning-base\")\n",
        "model = BlipForConditionalGeneration.from_pretrained(\"Salesforce/blip-image-captioning-base\")\n",
        "\n",
        "# Function to capture image from camera (fixed double capture issue)\n",
        "def capture_image():\n",
        "    js_code = Javascript('''\n",
        "        async function takePhoto() {\n",
        "          const div = document.createElement('div');\n",
        "          const capture = document.createElement('button');\n",
        "          capture.textContent = 'Capture';\n",
        "          div.appendChild(capture);\n",
        "          document.body.appendChild(div);\n",
        "\n",
        "          const video = document.createElement('video');\n",
        "          video.style.display = 'block';\n",
        "          document.body.appendChild(video);\n",
        "\n",
        "          const stream = await navigator.mediaDevices.getUserMedia({ video: true });\n",
        "          video.srcObject = stream;\n",
        "          await video.play();\n",
        "\n",
        "          google.colab.output.setIframeHeight(document.documentElement.scrollHeight, true);\n",
        "\n",
        "          await new Promise((resolve) => capture.onclick = resolve);\n",
        "\n",
        "          const canvas = document.createElement('canvas');\n",
        "          canvas.width = video.videoWidth;\n",
        "          canvas.height = video.videoHeight;\n",
        "          canvas.getContext('2d').drawImage(video, 0, 0);\n",
        "          stream.getVideoTracks()[0].stop();\n",
        "\n",
        "          const dataUrl = canvas.toDataURL('image/jpeg');\n",
        "          return dataUrl;\n",
        "        }\n",
        "    ''')\n",
        "    display(js_code)\n",
        "    data = eval_js('takePhoto()')  # Call only once here\n",
        "    binary = b64decode(data.split(',')[1])\n",
        "    filename = 'captured_image.jpg'\n",
        "    with open(filename, 'wb') as f:\n",
        "        f.write(binary)\n",
        "    return filename\n",
        "\n",
        "# Function to upload image from file\n",
        "def upload_image():\n",
        "    uploaded = files.upload()\n",
        "    for fn in uploaded.keys():\n",
        "        return fn\n",
        "\n",
        "# Function to extract text or generate AI-based name\n",
        "def process_image(image_path):\n",
        "    img = Image.open(image_path)\n",
        "\n",
        "    # Extract text\n",
        "    text = reader.readtext(image_path, detail=0)\n",
        "    text_content = \" \".join(text).strip()\n",
        "\n",
        "    if text_content:\n",
        "        filename = \"_\".join(text_content.split())[:50] + \".jpg\"\n",
        "        print(f\"📝 Extracted Text: {text_content}\")\n",
        "        print(f\"📂 Suggested File Name: {filename}\")\n",
        "    else:\n",
        "        # AI caption generation\n",
        "        inputs = processor(img, return_tensors=\"pt\")\n",
        "        out = model.generate(**inputs)\n",
        "        caption = processor.decode(out[0], skip_special_tokens=True)\n",
        "        filename = \"_\".join(caption.split())[:50] + \".jpg\"\n",
        "        print(f\"🤖 AI Guess: {caption}\")\n",
        "        print(f\"📂 Suggested File Name: {filename}\")\n",
        "\n",
        "# Loop for repeated processing\n",
        "while True:\n",
        "    print(\"\\nChoose option:\\n1 - Capture from camera\\n2 - Upload from file\\n0 - Exit\")\n",
        "    choice = input(\"Enter choice: \")\n",
        "\n",
        "    if choice == \"1\":\n",
        "        img_path = capture_image()\n",
        "        process_image(img_path)\n",
        "    elif choice == \"2\":\n",
        "        img_path = upload_image()\n",
        "        process_image(img_path)\n",
        "    elif choice == \"0\":\n",
        "        print(\"Exiting...\")\n",
        "        break\n",
        "    else:\n",
        "        print(\"Invalid choice, try again.\")\n"
      ]
    }
  ]
}